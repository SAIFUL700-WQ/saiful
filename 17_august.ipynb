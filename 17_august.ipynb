{
  "nbformat": 4,
  "nbformat_minor": 0,
  "metadata": {
    "colab": {
      "provenance": [],
      "authorship_tag": "ABX9TyPGg3lRvBs84HOaktutIvnH",
      "include_colab_link": true
    },
    "kernelspec": {
      "name": "python3",
      "display_name": "Python 3"
    },
    "language_info": {
      "name": "python"
    }
  },
  "cells": [
    {
      "cell_type": "markdown",
      "metadata": {
        "id": "view-in-github",
        "colab_type": "text"
      },
      "source": [
        "<a href=\"https://colab.research.google.com/github/SAIFUL700-WQ/saiful/blob/main/17_august.ipynb\" target=\"_parent\"><img src=\"https://colab.research.google.com/assets/colab-badge.svg\" alt=\"Open In Colab\"/></a>"
      ]
    },
    {
      "cell_type": "code",
      "execution_count": 3,
      "metadata": {
        "id": "klbMj0GIlZZ_",
        "colab": {
          "base_uri": "https://localhost:8080/"
        },
        "outputId": "3bc42a89-787b-4a01-f9d6-cc8723f14cbe"
      },
      "outputs": [
        {
          "output_type": "stream",
          "name": "stdout",
          "text": [
            "MAIN MENU\n",
            "1. String Operations\n",
            "2. Number Operations\n",
            "3. EXIT\n",
            "\n",
            "Enter your choice(1,2 or 3): 1\n",
            "\n",
            "Thank you for choosing string operations\n",
            "MAIN MENU\n",
            "1. String Operations\n",
            "2. Number Operations\n",
            "3. EXIT\n",
            "\n",
            "Enter your choice(1,2 or 3): 2\n",
            "\n",
            "Thank you for choosing number operations\n",
            "MAIN MENU\n",
            "1. String Operations\n",
            "2. Number Operations\n",
            "3. EXIT\n",
            "\n",
            "Enter your choice(1,2 or 3): 3\n",
            "\n",
            "Thank you for choosing switch statement\n"
          ]
        }
      ],
      "source": [
        "def main_menu():\n",
        "  print(\"MAIN MENU\")\n",
        "  print(\"1. String Operations\")\n",
        "  print(\"2. Number Operations\")\n",
        "  print(\"3. EXIT\")\n",
        "\n",
        "def main():\n",
        "    while (True):\n",
        "        main_menu()\n",
        "        choice = input('\\nEnter your choice(1,2 or 3): ')\n",
        "        if choice =='1': # Fixed typo 'choise' to 'choice'\n",
        "            print(\"\\nThank you for choosing string operations\")\n",
        "        elif choice =='2':\n",
        "            print(\"\\nThank you for choosing number operations\")\n",
        "        elif choice == '3':\n",
        "            print(\"\\nThank you for choosing switch statement\")\n",
        "            break\n",
        "            # Moved break statement inside the 'if' block to exit the loop when choice is '3'\n",
        "        else:\n",
        "            print(\"\\nInvalid choice!!!\")\n",
        "            print(\"\\nPlease try again\")\n",
        "main()\n"
      ]
    },
    {
      "cell_type": "code",
      "source": [],
      "metadata": {
        "id": "icF_EpmMuXni"
      },
      "execution_count": null,
      "outputs": []
    }
  ]
}