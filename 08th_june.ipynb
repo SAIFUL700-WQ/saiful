{
  "nbformat": 4,
  "nbformat_minor": 0,
  "metadata": {
    "colab": {
      "provenance": [],
      "authorship_tag": "ABX9TyPUBPERjJR2qKMMweQr1oKQ",
      "include_colab_link": true
    },
    "kernelspec": {
      "name": "python3",
      "display_name": "Python 3"
    },
    "language_info": {
      "name": "python"
    }
  },
  "cells": [
    {
      "cell_type": "markdown",
      "metadata": {
        "id": "view-in-github",
        "colab_type": "text"
      },
      "source": [
        "<a href=\"https://colab.research.google.com/github/SAIFUL700-WQ/saiful/blob/main/08th_june.ipynb\" target=\"_parent\"><img src=\"https://colab.research.google.com/assets/colab-badge.svg\" alt=\"Open In Colab\"/></a>"
      ]
    },
    {
      "cell_type": "code",
      "source": [
        "for i in range(1,6):\n",
        "  print(i)"
      ],
      "metadata": {
        "colab": {
          "base_uri": "https://localhost:8080/"
        },
        "id": "MDGMTWvALUXf",
        "outputId": "df4702fc-63ce-408b-a15b-7456bcfd2aba"
      },
      "execution_count": null,
      "outputs": [
        {
          "output_type": "stream",
          "name": "stdout",
          "text": [
            "1\n",
            "2\n",
            "3\n",
            "4\n",
            "5\n"
          ]
        }
      ]
    },
    {
      "cell_type": "code",
      "execution_count": null,
      "metadata": {
        "colab": {
          "base_uri": "https://localhost:8080/"
        },
        "id": "xuQPXOtxKkL8",
        "outputId": "56e85033-308c-42ab-850a-72e7ba245f22"
      },
      "outputs": [
        {
          "output_type": "stream",
          "name": "stdout",
          "text": [
            "apple\n",
            "banana\n",
            "mango\n"
          ]
        }
      ],
      "source": [
        "#iterating over a list\n",
        "fruits=[\"apple\",\"banana\",\"mango\"]\n",
        "for a in fruits:\n",
        "  print(a)"
      ]
    },
    {
      "cell_type": "code",
      "source": [
        "for i in range(10):\n",
        "  print(i)"
      ],
      "metadata": {
        "colab": {
          "base_uri": "https://localhost:8080/"
        },
        "id": "o-bPW1jBLqcA",
        "outputId": "75e396a7-65fd-440c-f891-32c43dd4a782"
      },
      "execution_count": null,
      "outputs": [
        {
          "output_type": "stream",
          "name": "stdout",
          "text": [
            "0\n",
            "1\n",
            "2\n",
            "3\n",
            "4\n",
            "5\n",
            "6\n",
            "7\n",
            "8\n",
            "9\n"
          ]
        }
      ]
    },
    {
      "cell_type": "code",
      "source": [
        "#nested loop(akta loop er vitor ar akta loop)\n",
        "for i in range(1,6):\n",
        "    for j in range(1,4):\n",
        "        print(\"i=\",i,\"j=\",j,)"
      ],
      "metadata": {
        "colab": {
          "base_uri": "https://localhost:8080/"
        },
        "id": "L27NCYH8LyP2",
        "outputId": "170fdbf0-a402-44fd-a759-6921bf2180c4"
      },
      "execution_count": null,
      "outputs": [
        {
          "output_type": "stream",
          "name": "stdout",
          "text": [
            "i= 1 j= 1\n",
            "i= 1 j= 2\n",
            "i= 1 j= 3\n",
            "i= 2 j= 1\n",
            "i= 2 j= 2\n",
            "i= 2 j= 3\n",
            "i= 3 j= 1\n",
            "i= 3 j= 2\n",
            "i= 3 j= 3\n",
            "i= 4 j= 1\n",
            "i= 4 j= 2\n",
            "i= 4 j= 3\n",
            "i= 5 j= 1\n",
            "i= 5 j= 2\n",
            "i= 5 j= 3\n"
          ]
        }
      ]
    },
    {
      "cell_type": "code",
      "source": [
        "numbers=[1,2,3,4,5]\n",
        "total=0\n",
        "for a in numbers:\n",
        "  #total+=a        (same same but difflant)\n",
        "  total=a+total\n",
        "  print(\"Total sum: \",total,)\n",
        "\n"
      ],
      "metadata": {
        "colab": {
          "base_uri": "https://localhost:8080/"
        },
        "id": "V7OOAt_LOZ4b",
        "outputId": "f98379c5-11b1-4d3c-ba13-6ff2bdf7457d"
      },
      "execution_count": null,
      "outputs": [
        {
          "output_type": "stream",
          "name": "stdout",
          "text": [
            "Total sum:  1\n",
            "Total sum:  3\n",
            "Total sum:  6\n",
            "Total sum:  10\n",
            "Total sum:  15\n"
          ]
        }
      ]
    },
    {
      "cell_type": "code",
      "source": [
        "numbers=[20,30,40,50,60,70]\n",
        "max_num=numbers[0]\n",
        "for a in numbers:\n",
        "  if a>max_num:\n",
        "    max_num=a\n",
        "print(\"Maximum Number: \",max_num, )"
      ],
      "metadata": {
        "colab": {
          "base_uri": "https://localhost:8080/"
        },
        "id": "G_FPXZxnSAQT",
        "outputId": "bba0b402-c6da-4e76-c00c-2081d2e2f4b2"
      },
      "execution_count": null,
      "outputs": [
        {
          "output_type": "stream",
          "name": "stdout",
          "text": [
            "Maximum Number:  70\n"
          ]
        }
      ]
    },
    {
      "cell_type": "code",
      "source": [
        "a=10\n",
        "while a>=1:\n",
        "  #a-=1\n",
        "  print(a)\n",
        "  a-=1"
      ],
      "metadata": {
        "colab": {
          "base_uri": "https://localhost:8080/"
        },
        "id": "8qD2bJPoVO09",
        "outputId": "5b610799-9a0e-4396-c2c7-16d27f6c0dc5"
      },
      "execution_count": null,
      "outputs": [
        {
          "output_type": "stream",
          "name": "stdout",
          "text": [
            "10\n",
            "9\n",
            "8\n",
            "7\n",
            "6\n",
            "5\n",
            "4\n",
            "3\n",
            "2\n",
            "1\n"
          ]
        }
      ]
    },
    {
      "cell_type": "code",
      "source": [
        "b=\"python\"\n",
        "for a in b:\n",
        "  print(a)"
      ],
      "metadata": {
        "colab": {
          "base_uri": "https://localhost:8080/"
        },
        "id": "wUahxH1CVqA1",
        "outputId": "14bc834b-e3e9-47ae-9201-8bcf1a953d7f"
      },
      "execution_count": null,
      "outputs": [
        {
          "output_type": "stream",
          "name": "stdout",
          "text": [
            "p\n",
            "y\n",
            "t\n",
            "h\n",
            "o\n",
            "n\n"
          ]
        }
      ]
    },
    {
      "cell_type": "code",
      "source": [
        "for i in range(1,6):\n",
        "  for j in range(1,i+1):\n",
        "    print(j,end=\"\")\n",
        "  print()\n"
      ],
      "metadata": {
        "colab": {
          "base_uri": "https://localhost:8080/"
        },
        "id": "a4KADYwxYmW5",
        "outputId": "3645e741-e1ff-4d77-c67c-e089d1827264"
      },
      "execution_count": null,
      "outputs": [
        {
          "output_type": "stream",
          "name": "stdout",
          "text": [
            "1\n",
            "12\n",
            "123\n",
            "1234\n",
            "12345\n"
          ]
        }
      ]
    },
    {
      "cell_type": "code",
      "source": [
        "#function defination\n",
        "def saiful():\n",
        "  print(\"Hello world\")\n",
        "saiful()"
      ],
      "metadata": {
        "id": "PxZgHizVghBK",
        "colab": {
          "base_uri": "https://localhost:8080/"
        },
        "outputId": "9b4d8b6e-64b2-458c-a7ac-581a34ae98a3"
      },
      "execution_count": null,
      "outputs": [
        {
          "output_type": "stream",
          "name": "stdout",
          "text": [
            "Hello world\n"
          ]
        }
      ]
    },
    {
      "cell_type": "code",
      "source": [
        "def greet(name):\n",
        "  print(\"Helo\",name,)\n",
        "greet(\"Saiful\")"
      ],
      "metadata": {
        "colab": {
          "base_uri": "https://localhost:8080/"
        },
        "id": "LEsMuq5VmQkK",
        "outputId": "b070390f-f0ea-4a8d-a061-915ab21b8a06"
      },
      "execution_count": null,
      "outputs": [
        {
          "output_type": "stream",
          "name": "stdout",
          "text": [
            "Helo Saiful\n"
          ]
        }
      ]
    },
    {
      "cell_type": "code",
      "source": [
        "monday=[4,5,1,3]\n",
        "tuesday=[1,2,3,4]\n",
        "wednesday=[1,2,3,4]\n",
        "\n",
        "def saiful():\n",
        "  sum=0\n",
        "  for a in monday:\n",
        "    sum=sum+a\n",
        "\n",
        "  average=sum/4\n",
        "  print(monday)\n",
        "  print(tuesday)\n",
        "  print(wednesday)\n",
        "  print(average)\n",
        "saiful()"
      ],
      "metadata": {
        "colab": {
          "base_uri": "https://localhost:8080/"
        },
        "id": "PyPGCmynoR3U",
        "outputId": "8d6f45ac-1f54-4f21-8593-30b67831bf3d"
      },
      "execution_count": null,
      "outputs": [
        {
          "output_type": "stream",
          "name": "stdout",
          "text": [
            "[4, 5, 1, 3]\n",
            "[1, 2, 3, 4]\n",
            "[1, 2, 3, 4]\n",
            "3.25\n"
          ]
        }
      ]
    },
    {
      "cell_type": "code",
      "source": [
        "def greet(name,age):\n",
        "  print(\"Helo\",name,\"your age is \",age,)\n",
        "greet(\"Saiful\",25),30"
      ],
      "metadata": {
        "colab": {
          "base_uri": "https://localhost:8080/"
        },
        "id": "mPI1m8sOpFCM",
        "outputId": "253b23a9-3da5-481d-c918-758d78f8afed"
      },
      "execution_count": null,
      "outputs": [
        {
          "output_type": "stream",
          "name": "stdout",
          "text": [
            "Helo Saiful your age is  25\n"
          ]
        },
        {
          "output_type": "execute_result",
          "data": {
            "text/plain": [
              "(None, 30)"
            ]
          },
          "metadata": {},
          "execution_count": 115
        }
      ]
    },
    {
      "cell_type": "code",
      "source": [
        "def add(a,b):\n",
        "  return a+b\n",
        "result=add(10,20)\n",
        "print(result)"
      ],
      "metadata": {
        "colab": {
          "base_uri": "https://localhost:8080/"
        },
        "id": "zDLitnNdqVW-",
        "outputId": "49a09b3e-d1a8-4a79-fb28-6be15b706d90"
      },
      "execution_count": null,
      "outputs": [
        {
          "output_type": "stream",
          "name": "stdout",
          "text": [
            "30\n"
          ]
        }
      ]
    },
    {
      "cell_type": "code",
      "source": [
        "#lambda function\n",
        "add_lambda=lambda a,b:a+b\n",
        "result=add_lambda(10,20)\n",
        "print(result)\n",
        "\n",
        "print(add(10,20))\n",
        "print(add_lambda(10,20))"
      ],
      "metadata": {
        "colab": {
          "base_uri": "https://localhost:8080/"
        },
        "id": "gobSb5irq_3Z",
        "outputId": "898d9c7c-044f-46aa-d7c8-8ca0d297cdd9"
      },
      "execution_count": null,
      "outputs": [
        {
          "output_type": "stream",
          "name": "stdout",
          "text": [
            "30\n",
            "30\n",
            "30\n"
          ]
        }
      ]
    },
    {
      "cell_type": "code",
      "source": [
        "#from functools import reduce\n",
        "#example with map()\n",
        "numbers=[1,2,3,4,5]\n",
        "squared=list(map(lambda x:x**2,numbers))\n",
        "print(squared)\n",
        "\n",
        "#example with filter()\n",
        "evens = list(filter(lambda x: x % 2 == 0, numbers))\n",
        "squared=list(map(lambda x:x**2,numbers))\n",
        "print(evens,squared)"
      ],
      "metadata": {
        "colab": {
          "base_uri": "https://localhost:8080/"
        },
        "id": "PI8itXzXtA7A",
        "outputId": "3667e3c2-f34b-4e2b-f08f-4d281f585ee0"
      },
      "execution_count": null,
      "outputs": [
        {
          "output_type": "stream",
          "name": "stdout",
          "text": [
            "[1, 4, 9, 16, 25]\n",
            "[2, 4] [1, 4, 9, 16, 25]\n"
          ]
        }
      ]
    }
  ]
}